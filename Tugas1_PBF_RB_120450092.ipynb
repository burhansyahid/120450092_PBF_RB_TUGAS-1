{
  "nbformat": 4,
  "nbformat_minor": 0,
  "metadata": {
    "colab": {
      "provenance": []
    },
    "kernelspec": {
      "name": "python3",
      "display_name": "Python 3"
    },
    "language_info": {
      "name": "python"
    }
  },
  "cells": [
    {
      "cell_type": "code",
      "execution_count": 1,
      "metadata": {
        "id": "teyZJ6uUTigf"
      },
      "outputs": [],
      "source": [
        "from functools import reduce"
      ]
    },
    {
      "cell_type": "code",
      "source": [
        "def encrypt_password(password):\n",
        "  ascii_values = [ord(char) for char in password]\n",
        "  encrypt_values = [(chr((value//26)+80), chr(value%26+80), \n",
        "                     '+' if value//26 > value%26 else '-') for value in ascii_values]\n",
        "  encrypted_password = reduce(lambda acc, val: acc + val[0] + val[1] + val[2], encrypt_values, '')\n",
        "\n",
        "  return encrypted_password"
      ],
      "metadata": {
        "id": "KSmBhG5eUW3I"
      },
      "execution_count": 40,
      "outputs": []
    },
    {
      "cell_type": "code",
      "source": [
        "password = input(\"Masukkan password: \")"
      ],
      "metadata": {
        "colab": {
          "base_uri": "https://localhost:8080/"
        },
        "id": "WSqUKiycVSfc",
        "outputId": "b60f8b64-d4f2-4820-9e24-7c293d78b228"
      },
      "execution_count": 41,
      "outputs": [
        {
          "name": "stdout",
          "output_type": "stream",
          "text": [
            "Masukkan password: anakanakcerdas2020sd\n"
          ]
        }
      ]
    },
    {
      "cell_type": "code",
      "source": [
        "encrypted_password = encrypt_password(password)"
      ],
      "metadata": {
        "id": "0-a7YhVGVxx9"
      },
      "execution_count": 43,
      "outputs": []
    },
    {
      "cell_type": "code",
      "source": [
        "print(\"Password asli:\", password)"
      ],
      "metadata": {
        "colab": {
          "base_uri": "https://localhost:8080/"
        },
        "id": "dOgP2_-uUvoS",
        "outputId": "2b7a28ec-0ef8-4907-a095-048b145c443e"
      },
      "execution_count": 44,
      "outputs": [
        {
          "output_type": "stream",
          "name": "stdout",
          "text": [
            "Password asli: anakanakcerdas2020sd\n"
          ]
        }
      ]
    },
    {
      "cell_type": "code",
      "source": [
        "print(\"Password terenkripsi:\", encrypted_password)"
      ],
      "metadata": {
        "colab": {
          "base_uri": "https://localhost:8080/"
        },
        "id": "qMF3nMw9V39A",
        "outputId": "3f473962-ffe5-47bd-bbc1-e9410076638b"
      },
      "execution_count": 45,
      "outputs": [
        {
          "output_type": "stream",
          "name": "stdout",
          "text": [
            "Password terenkripsi: Sc-TV-Sc-TS+Sc-TV-Sc-TS+Se-Sg-TZ-Sf-Sc-T[-Qh-Qf-Qh-Qf-T[-Sf-\n"
          ]
        }
      ]
    },
    {
      "cell_type": "code",
      "source": [
        "print(encrypted_password)"
      ],
      "metadata": {
        "colab": {
          "base_uri": "https://localhost:8080/"
        },
        "id": "InctHGlSeJEZ",
        "outputId": "6cd24b53-8fa8-4df2-83f8-6a50eea62edf"
      },
      "execution_count": 46,
      "outputs": [
        {
          "output_type": "stream",
          "name": "stdout",
          "text": [
            "Sc-TV-Sc-TS+Sc-TV-Sc-TS+Se-Sg-TZ-Sf-Sc-T[-Qh-Qf-Qh-Qf-T[-Sf-\n"
          ]
        }
      ]
    },
    {
      "cell_type": "code",
      "source": [],
      "metadata": {
        "id": "DpM2HtwDgTjr"
      },
      "execution_count": null,
      "outputs": []
    }
  ]
}